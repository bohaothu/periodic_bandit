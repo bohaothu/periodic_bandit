{
 "cells": [
  {
   "cell_type": "code",
   "execution_count": 1,
   "id": "turned-circumstances",
   "metadata": {},
   "outputs": [],
   "source": [
    "import numpy as np\n",
    "import pandas as pd\n",
    "import seaborn as sns"
   ]
  },
  {
   "cell_type": "code",
   "execution_count": 16,
   "id": "exact-exhibition",
   "metadata": {},
   "outputs": [],
   "source": [
    "cost_mu, cost_sigma = 5000,300\n",
    "b_mu, b_sigma = 3000, 200\n",
    "c_mu, c_sigma = 4000, 300\n",
    "\n",
    "def cost(t):\n",
    "    return np.random.normal(cost_mu, cost_sigma)\n",
    "\n",
    "def B(t):\n",
    "    return np.random.normal(b_mu, b_sigma)\n",
    "\n",
    "def C(t):\n",
    "    return np.random.normal(c_mu, c_sigma)"
   ]
  },
  {
   "cell_type": "code",
   "execution_count": 40,
   "id": "enormous-adelaide",
   "metadata": {},
   "outputs": [],
   "source": [
    "T = 100\n",
    "K = 3\n",
    "\n",
    "regrets_origin=[0]\n",
    "regrets_exp3=[0]\n",
    "regrets_random=[0]\n",
    "\n",
    "weight=[[1] * K for x in range(0,T+2)]\n",
    "prob=[[1] * K for x in range(0,T+2)] # 0: use origin, 1: use card\n",
    "\n",
    "gamma = 0.3\n",
    "\n",
    "z=[]\n",
    "\n",
    "for i in range(1,T+1):\n",
    "    cost_t = cost(i)\n",
    "    card_B, card_C = B(i), C(i)\n",
    "    daily_optimal = np.min([cost_t, card_B, card_C])\n",
    "    daily_div = np.max([cost_t, card_B, card_C]) - np.min([cost_t, card_B, card_C])\n",
    "\n",
    "    # Origin cost without any cards\n",
    "    dailycost_origin = cost_t\n",
    "    regrets_origin.append(np.max([0,dailycost_origin - daily_optimal]) / daily_div)\n",
    "    z.append({\"t\": i, \"cost\": dailycost_origin, \"win\": (dailycost_origin == daily_optimal),\n",
    "              \"regret\": np.sum(regrets_origin),\n",
    "              \"method\": \"origin\"})\n",
    "    \n",
    "    \"\"\"\n",
    "    # random choice\n",
    "    random_arr = [1/3,1/3,1/3]\n",
    "    dailycost_random=np.random.choice([cost_t, card_B, card_C], 1, p=np.array())\n",
    "    regrets_random.append(np.max([0,dailycost_random - daily_optimal]) / daily_div)\n",
    "    z.append({\"t\": i, \"cost\": dailycost_random, \"win\": (dailycost_random == daily_optimal),\n",
    "              \"regret\": np.sum(regrets_random),\n",
    "              \"method\": \"random\"})\n",
    "    \"\"\"\n",
    "    \n",
    "    # exp3\n",
    "    for arm in range(K):\n",
    "        prob[i][arm] = (1 - gamma)*(weight[i][arm])/np.sum(weight[i]) + gamma/K\n",
    "\n",
    "    draw = np.random.choice([0,1,2], 1, p=np.array(prob[i])/np.sum(prob[i]))\n",
    "\n",
    "\n",
    "    if draw == 0: # not buy\n",
    "        dailycost_exp3 = dailycost_origin\n",
    "    elif draw == 1:\n",
    "        dailycost_exp3 = card_B\n",
    "    else:\n",
    "        dailycost_exp3 = card_C\n",
    "\n",
    "    x_hat = [0] * K\n",
    "    for arm in range(K):\n",
    "        if arm == draw:\n",
    "            x_hat[arm] = np.max([0,dailycost_exp3 - daily_optimal]) / daily_div / prob[i][arm]\n",
    "        else:\n",
    "            x_hat[arm] = 0\n",
    "    weight[i+1][arm] = weight[i][arm]*np.exp(gamma*x_hat[arm]/K)\n",
    "    \n",
    "    regrets_exp3.append(np.max([0,dailycost_exp3 - daily_optimal]) / daily_div)\n",
    "    \n",
    "    z.append({\"t\": i, \"cost\": dailycost_exp3, \"win\": (dailycost_exp3 == daily_optimal),\n",
    "              \"regret\": np.sum(regrets_exp3),\n",
    "              \"method\": \"exp3\"})\n",
    "    \n",
    "    #z.append({\"t\": i, \"regret\": i, \"method\": \"y=x\"})\n",
    "    #z.append({\"t\": i, \"regret\": 8 * np.sqrt(i), \"method\": \"root\"})\n",
    "\n",
    "df=pd.DataFrame(z)"
   ]
  },
  {
   "cell_type": "code",
   "execution_count": 41,
   "id": "architectural-november",
   "metadata": {},
   "outputs": [
    {
     "data": {
      "text/plain": [
       "<AxesSubplot:xlabel='t', ylabel='regret'>"
      ]
     },
     "execution_count": 41,
     "metadata": {},
     "output_type": "execute_result"
    },
    {
     "data": {
      "image/png": "[encoded data removed]",
      "text/plain": [
       "<Figure size 432x288 with 1 Axes>"
      ]
     },
     "metadata": {
      "needs_background": "light"
     },
     "output_type": "display_data"
    }
   ],
   "source": [
    "sns.lineplot(x=\"t\",y=\"regret\",data=df,hue=\"method\")"
   ]
  },
  {
   "cell_type": "code",
   "execution_count": 35,
   "id": "ambient-wilderness",
   "metadata": {},
   "outputs": [
    {
     "data": {
      "text/plain": [
       "array([0.33333333, 0.33333333, 0.33333333])"
      ]
     },
     "execution_count": 35,
     "metadata": {},
     "output_type": "execute_result"
    }
   ],
   "source": []
  },
  {
   "cell_type": "code",
   "execution_count": null,
   "id": "boring-patent",
   "metadata": {},
   "outputs": [],
   "source": []
  }
 ],
 "metadata": {
  "kernelspec": {
   "display_name": "Python 3",
   "language": "python",
   "name": "python3"
  },
  "language_info": {
   "codemirror_mode": {
    "name": "ipython",
    "version": 3
   },
   "file_extension": ".py",
   "mimetype": "text/x-python",
   "name": "python",
   "nbconvert_exporter": "python",
   "pygments_lexer": "ipython3",
   "version": "3.8.2"
  }
 },
 "nbformat": 4,
 "nbformat_minor": 5
}
