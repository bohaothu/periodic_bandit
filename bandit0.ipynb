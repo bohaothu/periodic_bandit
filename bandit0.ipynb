{
 "cells": [
  {
   "cell_type": "code",
   "execution_count": 42,
   "id": "ongoing-greenhouse",
   "metadata": {},
   "outputs": [],
   "source": [
    "import numpy as np\n",
    "import pandas as pd\n",
    "import seaborn as sns"
   ]
  },
  {
   "cell_type": "code",
   "execution_count": 165,
   "id": "clean-diameter",
   "metadata": {},
   "outputs": [],
   "source": [
    "d_mu, d_sigma = 30, 10\n",
    "price_min = 20\n",
    "price_high = 300\n",
    "\n",
    "def demand(t):\n",
    "      return np.random.normal(d_mu, d_sigma)\n",
    "\n",
    "def price(t):\n",
    "    p_low = price_min + np.abs(np.sin(t)) * np.random.random() * 180\n",
    "    p_high = price_high - np.abs(np.sin(t)) * np.random.random() * 100\n",
    "    if np.random.random() >= 0.6:\n",
    "        p_final = 20 + np.random.random() * 10\n",
    "    else:\n",
    "        p_final = np.random.uniform(low=p_low,high=p_high)\n",
    "        \n",
    "    p_final=np.random.normal(200,5)\n",
    "    return p_final"
   ]
  },
  {
   "cell_type": "code",
   "execution_count": 195,
   "id": "genetic-compromise",
   "metadata": {},
   "outputs": [
    {
     "name": "stdout",
     "output_type": "stream",
     "text": [
      "E[P] 200.11922821338615\n",
      "E[PD] 6099.7455924112055 6099745.592411205\n",
      "0.0\n"
     ]
    }
   ],
   "source": [
    "T=1000\n",
    "price_expectaion = np.mean([price(x) for x in range(T)])\n",
    "cost_expectaion = np.mean([price(x)*demand(x) for x in range(T)])\n",
    "card_price = cost_expectaion\n",
    "print(\"E[P]\", price_expectaion)\n",
    "print(\"E[PD]\", cost_expectaion, cost_expectaion * T)\n",
    "\n",
    "prices = [0]\n",
    "regrets = {\"origin\": [0],\"random\": [0], \"predict\": [0], \"always\": [0], \"optimal\": [0]}\n",
    "costs = {\"origin\": [0],\"random\": [0], \"predict\": [0], \"always\": [0], \"optimal\": [0]}\n",
    "z = []\n",
    "\n",
    "for i in range (1,T+1):\n",
    "    price_avg = np.mean(prices)\n",
    "    demand_t, price_t = demand(i), price(i)\n",
    "    dailycost_origin = np.multiply(demand_t, price_t)\n",
    "    daily_optimal = np.min([card_price, dailycost_origin])\n",
    "    \n",
    "    \"\"\"\n",
    "    # no buy cards\n",
    "    buy_origin = False\n",
    "    regret_origin = np.max([0, dailycost_origin - daily_optimal])\n",
    "    regrets[\"origin\"].append(regret_origin)\n",
    "    costs[\"origin\"].append(dailycost_origin)\n",
    "    z.append({\"t\": i, \"demand\": demand_t, \"price\": price_t,\n",
    "              \"buy\": buy_origin, \"win\": dailycost_origin == daily_optimal,\n",
    "              \"regret\": regret_origin, \"regret_acc\": np.sum(regrets[\"origin\"]),\n",
    "              \"cost_acc\": np.sum(costs[\"origin\"]), \"method\": \"origin\"})\n",
    "    \n",
    "    # always buy\n",
    "    buy_always = True\n",
    "    regret_always = np.max([0, card_price - daily_optimal])\n",
    "    regrets[\"always\"].append(regret_always)\n",
    "    costs[\"always\"].append(card_price)\n",
    "    z.append({\"t\": i, \"demand\": demand_t, \"price\": price_t,\n",
    "              \"buy\": buy_always, \"win\": card_price == daily_optimal,\n",
    "              \"regret\": regret_always, \"regret_acc\": np.sum(regrets[\"always\"]), \n",
    "              \"cost_acc\": np.sum(costs[\"always\"]), \"method\": \"always\"})\n",
    "    \n",
    "                           \n",
    "    # epsilon greedy\n",
    "    random_prob = 0.5\n",
    "    daily_decision = np.random.random()\n",
    "    buy_random = True if daily_decision >= (1 - random_prob) else False\n",
    "    dailycost_random = card_price if buy_random else dailycost_origin\n",
    "    regret_random = np.max([0, dailycost_random - daily_optimal])\n",
    "    regrets[\"random\"].append(regret_random)\n",
    "    costs[\"random\"].append(dailycost_random)\n",
    "    z.append({\"t\": i, \"demand\": demand_t, \"price\": price_t,\n",
    "              \"buy\": buy_random, \"win\": dailycost_random == daily_optimal,\n",
    "              \"regret\": regret_random, \"regret_acc\": np.sum(regrets[\"random\"]),\n",
    "              \"cost_acc\": np.sum(costs[\"random\"]), \"method\": \"50-random\"})\n",
    "    \"\"\"\n",
    "    \n",
    "    # predict method\n",
    "    correct_ratio = 1\n",
    "    buy_predict = (np.multiply(demand_t, price_t) > card_price) and (np.random.random() >= (1 - correct_ratio))\n",
    "    dailycost_predict = card_price if buy_predict else dailycost_origin\n",
    "    regret_predict = np.max([0, dailycost_predict - daily_optimal])\n",
    "    regrets[\"predict\"].append(regret_predict)\n",
    "    costs[\"predict\"].append(dailycost_predict)\n",
    "    z.append({\"t\": i, \"demand\": demand_t, \"price\": price_t,\n",
    "              \"buy\": buy_predict, \"win\": dailycost_predict == daily_optimal,\n",
    "              \"regret\": regret_predict, \"regret_acc\": np.mean(regrets[\"predict\"]),\n",
    "              \"cost_acc\": np.sum(costs[\"predict\"]), \"method\": \"80-predict\"})\n",
    "    \n",
    "    # optimal case\n",
    "    buy_optimal= card_price == daily_optimal\n",
    "    regrets[\"optimal\"].append(0)\n",
    "    costs[\"optimal\"].append(daily_optimal)\n",
    "    z.append({\"t\": i, \"demand\": demand_t, \"price\": price_t,\n",
    "              \"buy\": buy_optimal, \"win\": daily_optimal == daily_optimal,\n",
    "              \"regret\": 0, \"regret_acc\": np.mean(regrets[\"optimal\"]),\n",
    "              \"cost_acc\": np.sum(costs[\"optimal\"]), \"method\": \"optimal\"})\n",
    "    \n",
    "    prices.append(price_t)\n",
    "    \n",
    "\n",
    "df = pd.DataFrame(z)\n",
    "print(np.sum(regrets[\"always\"]) - np.sum(regrets[\"predict\"]))"
   ]
  },
  {
   "cell_type": "code",
   "execution_count": 196,
   "id": "electoral-mechanism",
   "metadata": {},
   "outputs": [
    {
     "data": {
      "text/plain": [
       "<AxesSubplot:xlabel='t', ylabel='regret_acc'>"
      ]
     },
     "execution_count": 196,
     "metadata": {},
     "output_type": "execute_result"
    },
    {
     "data": {
      "image/png": "[encoded data removed]",
      "text/plain": [
       "<Figure size 432x288 with 1 Axes>"
      ]
     },
     "metadata": {
      "needs_background": "light"
     },
     "output_type": "display_data"
    }
   ],
   "source": [
    "sns.lineplot(x=\"t\",y=\"regret_acc\",data=df,hue=\"method\")"
   ]
  },
  {
   "cell_type": "code",
   "execution_count": 93,
   "id": "scheduled-export",
   "metadata": {},
   "outputs": [
    {
     "data": {
      "text/plain": [
       "<AxesSubplot:xlabel='t', ylabel='cost_acc'>"
      ]
     },
     "execution_count": 93,
     "metadata": {},
     "output_type": "execute_result"
    },
    {
     "data": {
      "image/png": "[encoded data removed]",
      "text/plain": [
       "<Figure size 432x288 with 1 Axes>"
      ]
     },
     "metadata": {
      "needs_background": "light"
     },
     "output_type": "display_data"
    }
   ],
   "source": [
    "sns.lineplot(x=\"t\",y=\"cost_acc\",data=df,hue=\"method\")"
   ]
  },
  {
   "cell_type": "code",
   "execution_count": 75,
   "id": "registered-agreement",
   "metadata": {},
   "outputs": [
    {
     "data": {
      "text/plain": [
       "3      False\n",
       "8      False\n",
       "13     False\n",
       "18     False\n",
       "23     False\n",
       "       ...  \n",
       "478    False\n",
       "483    False\n",
       "488     True\n",
       "493     True\n",
       "498     True\n",
       "Name: buy, Length: 100, dtype: bool"
      ]
     },
     "execution_count": 75,
     "metadata": {},
     "output_type": "execute_result"
    }
   ],
   "source": []
  },
  {
   "cell_type": "code",
   "execution_count": null,
   "id": "affiliated-arrangement",
   "metadata": {},
   "outputs": [],
   "source": []
  }
 ],
 "metadata": {
  "kernelspec": {
   "display_name": "Python 3",
   "language": "python",
   "name": "python3"
  },
  "language_info": {
   "codemirror_mode": {
    "name": "ipython",
    "version": 3
   },
   "file_extension": ".py",
   "mimetype": "text/x-python",
   "name": "python",
   "nbconvert_exporter": "python",
   "pygments_lexer": "ipython3",
   "version": "3.8.2"
  }
 },
 "nbformat": 4,
 "nbformat_minor": 5
}
